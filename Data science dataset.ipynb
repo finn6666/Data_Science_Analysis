{
 "cells": [
  {
   "cell_type": "code",
   "execution_count": 2,
   "id": "edc628f0-fd28-448e-aa10-6a6a751df076",
   "metadata": {},
   "outputs": [],
   "source": [
    "import pandas as pd"
   ]
  },
  {
   "cell_type": "code",
   "execution_count": 3,
   "id": "0accaae6-a1d7-4dad-b3cf-2b232749e09b",
   "metadata": {},
   "outputs": [],
   "source": [
    "import numpy as np"
   ]
  },
  {
   "cell_type": "code",
   "execution_count": 4,
   "id": "b0f8ee15-dcb3-4b53-addb-4b89ae46b163",
   "metadata": {},
   "outputs": [],
   "source": [
    "data = pd.read_csv('data_science_job.csv')"
   ]
  },
  {
   "cell_type": "code",
   "execution_count": 48,
   "id": "736aa6df-860f-4d22-8240-a32b77e3deff",
   "metadata": {},
   "outputs": [
    {
     "data": {
      "text/html": [
       "<div>\n",
       "<style scoped>\n",
       "    .dataframe tbody tr th:only-of-type {\n",
       "        vertical-align: middle;\n",
       "    }\n",
       "\n",
       "    .dataframe tbody tr th {\n",
       "        vertical-align: top;\n",
       "    }\n",
       "\n",
       "    .dataframe thead th {\n",
       "        text-align: right;\n",
       "    }\n",
       "</style>\n",
       "<table border=\"1\" class=\"dataframe\">\n",
       "  <thead>\n",
       "    <tr style=\"text-align: right;\">\n",
       "      <th></th>\n",
       "      <th>work_year</th>\n",
       "      <th>job_title</th>\n",
       "      <th>job_category</th>\n",
       "      <th>salary_currency</th>\n",
       "      <th>salary</th>\n",
       "      <th>salary_in_usd</th>\n",
       "      <th>employee_residence</th>\n",
       "      <th>experience_level</th>\n",
       "      <th>employment_type</th>\n",
       "      <th>work_setting</th>\n",
       "      <th>company_location</th>\n",
       "      <th>company_size</th>\n",
       "    </tr>\n",
       "  </thead>\n",
       "  <tbody>\n",
       "    <tr>\n",
       "      <th>0</th>\n",
       "      <td>2022</td>\n",
       "      <td>Machine Learning Engineer  in office</td>\n",
       "      <td>Analysis</td>\n",
       "      <td>EUR</td>\n",
       "      <td>186597</td>\n",
       "      <td>136086</td>\n",
       "      <td>US</td>\n",
       "      <td>MI</td>\n",
       "      <td>CT</td>\n",
       "      <td>Remote</td>\n",
       "      <td>DE</td>\n",
       "      <td>L</td>\n",
       "    </tr>\n",
       "    <tr>\n",
       "      <th>1</th>\n",
       "      <td>2020</td>\n",
       "      <td>Statistician  (Remote)</td>\n",
       "      <td>ML/AI</td>\n",
       "      <td>JPY</td>\n",
       "      <td>110630</td>\n",
       "      <td>67982</td>\n",
       "      <td>JP</td>\n",
       "      <td>EX</td>\n",
       "      <td>FL</td>\n",
       "      <td>Remote</td>\n",
       "      <td>IN</td>\n",
       "      <td>M</td>\n",
       "    </tr>\n",
       "    <tr>\n",
       "      <th>2</th>\n",
       "      <td>2022</td>\n",
       "      <td>Machine Learning Engineer</td>\n",
       "      <td>ML/AI</td>\n",
       "      <td>INR</td>\n",
       "      <td>61280</td>\n",
       "      <td>153309</td>\n",
       "      <td>UK</td>\n",
       "      <td>MI</td>\n",
       "      <td>CT</td>\n",
       "      <td>Hybrid</td>\n",
       "      <td>CN</td>\n",
       "      <td>L</td>\n",
       "    </tr>\n",
       "    <tr>\n",
       "      <th>3</th>\n",
       "      <td>2022</td>\n",
       "      <td>Data Analyst  in office</td>\n",
       "      <td>ML/AI</td>\n",
       "      <td>JPY</td>\n",
       "      <td>154130</td>\n",
       "      <td>135242</td>\n",
       "      <td>DE</td>\n",
       "      <td>SE</td>\n",
       "      <td>FT</td>\n",
       "      <td>Hybrid</td>\n",
       "      <td>MX</td>\n",
       "      <td>L</td>\n",
       "    </tr>\n",
       "    <tr>\n",
       "      <th>4</th>\n",
       "      <td>2020</td>\n",
       "      <td>Statistician</td>\n",
       "      <td>Data Science</td>\n",
       "      <td>EUR</td>\n",
       "      <td>172312</td>\n",
       "      <td>35156</td>\n",
       "      <td>UK</td>\n",
       "      <td>MI</td>\n",
       "      <td>FT</td>\n",
       "      <td>In-person</td>\n",
       "      <td>UK</td>\n",
       "      <td>S</td>\n",
       "    </tr>\n",
       "    <tr>\n",
       "      <th>5</th>\n",
       "      <td>2020</td>\n",
       "      <td>Machine Learning Engineer</td>\n",
       "      <td>Engineering</td>\n",
       "      <td>JPY</td>\n",
       "      <td>36544</td>\n",
       "      <td>68280</td>\n",
       "      <td>CN</td>\n",
       "      <td>MI</td>\n",
       "      <td>FT</td>\n",
       "      <td>Hybrid</td>\n",
       "      <td>DE</td>\n",
       "      <td>M</td>\n",
       "    </tr>\n",
       "    <tr>\n",
       "      <th>6</th>\n",
       "      <td>2022</td>\n",
       "      <td>Data Analyst  in office</td>\n",
       "      <td>Data Science</td>\n",
       "      <td>JPY</td>\n",
       "      <td>178404</td>\n",
       "      <td>105324</td>\n",
       "      <td>DE</td>\n",
       "      <td>EX</td>\n",
       "      <td>PT</td>\n",
       "      <td>Remote</td>\n",
       "      <td>DE</td>\n",
       "      <td>L</td>\n",
       "    </tr>\n",
       "    <tr>\n",
       "      <th>7</th>\n",
       "      <td>2021</td>\n",
       "      <td>Data Scientist  (Remote)</td>\n",
       "      <td>ML/AI</td>\n",
       "      <td>JPY</td>\n",
       "      <td>187908</td>\n",
       "      <td>90706</td>\n",
       "      <td>UK</td>\n",
       "      <td>EX</td>\n",
       "      <td>CT</td>\n",
       "      <td>Remote</td>\n",
       "      <td>JP</td>\n",
       "      <td>M</td>\n",
       "    </tr>\n",
       "    <tr>\n",
       "      <th>8</th>\n",
       "      <td>2022</td>\n",
       "      <td>Data Analyst</td>\n",
       "      <td>Unknown</td>\n",
       "      <td>USD</td>\n",
       "      <td>-44388</td>\n",
       "      <td>171043</td>\n",
       "      <td>UK</td>\n",
       "      <td>NaN</td>\n",
       "      <td>FL</td>\n",
       "      <td>In-person</td>\n",
       "      <td>DE</td>\n",
       "      <td>Unknown</td>\n",
       "    </tr>\n",
       "    <tr>\n",
       "      <th>9</th>\n",
       "      <td>2022</td>\n",
       "      <td>Statistician  (Remote)</td>\n",
       "      <td>Engineering</td>\n",
       "      <td>us dolars</td>\n",
       "      <td>31694</td>\n",
       "      <td>73408</td>\n",
       "      <td>DE</td>\n",
       "      <td>EN</td>\n",
       "      <td>CT</td>\n",
       "      <td>Remote</td>\n",
       "      <td>US</td>\n",
       "      <td>S</td>\n",
       "    </tr>\n",
       "  </tbody>\n",
       "</table>\n",
       "</div>"
      ],
      "text/plain": [
       "   work_year                             job_title  job_category  \\\n",
       "0       2022  Machine Learning Engineer  in office      Analysis   \n",
       "1       2020                Statistician  (Remote)         ML/AI   \n",
       "2       2022           Machine Learning Engineer           ML/AI   \n",
       "3       2022               Data Analyst  in office         ML/AI   \n",
       "4       2020                        Statistician    Data Science   \n",
       "5       2020           Machine Learning Engineer     Engineering   \n",
       "6       2022               Data Analyst  in office  Data Science   \n",
       "7       2021              Data Scientist  (Remote)         ML/AI   \n",
       "8       2022                        Data Analyst         Unknown   \n",
       "9       2022                Statistician  (Remote)   Engineering   \n",
       "\n",
       "  salary_currency  salary  salary_in_usd employee_residence experience_level  \\\n",
       "0             EUR  186597         136086                 US               MI   \n",
       "1             JPY  110630          67982                 JP               EX   \n",
       "2             INR   61280         153309                 UK               MI   \n",
       "3             JPY  154130         135242                 DE               SE   \n",
       "4             EUR  172312          35156                 UK               MI   \n",
       "5             JPY   36544          68280                 CN               MI   \n",
       "6             JPY  178404         105324                 DE               EX   \n",
       "7             JPY  187908          90706                 UK               EX   \n",
       "8             USD  -44388         171043                 UK              NaN   \n",
       "9       us dolars   31694          73408                 DE               EN   \n",
       "\n",
       "  employment_type work_setting company_location company_size  \n",
       "0              CT       Remote               DE            L  \n",
       "1              FL       Remote               IN            M  \n",
       "2              CT       Hybrid               CN            L  \n",
       "3              FT       Hybrid               MX            L  \n",
       "4              FT    In-person               UK            S  \n",
       "5              FT       Hybrid               DE            M  \n",
       "6              PT       Remote               DE            L  \n",
       "7              CT       Remote               JP            M  \n",
       "8              FL    In-person               DE      Unknown  \n",
       "9              CT       Remote               US            S  "
      ]
     },
     "execution_count": 48,
     "metadata": {},
     "output_type": "execute_result"
    }
   ],
   "source": [
    "data.head(10)"
   ]
  },
  {
   "cell_type": "code",
   "execution_count": 12,
   "id": "5dc4a4ca-b10c-47e9-9c33-99ee6e4d874a",
   "metadata": {},
   "outputs": [
    {
     "name": "stdout",
     "output_type": "stream",
     "text": [
      "Shape of the dataset: (5000, 12)\n"
     ]
    }
   ],
   "source": [
    "print(f\"Shape of the dataset: {data.shape}\")\n"
   ]
  },
  {
   "cell_type": "code",
   "execution_count": null,
   "id": "6216548a-3cdc-4dd2-89dc-23cfe7e7e3db",
   "metadata": {},
   "outputs": [],
   "source": [
    "#Questions and findings\n",
    "#What is the most popular job title in each year?\n",
    "#What Job title is paid the best?\n",
    "#Whats the most popular work setting in the UK?\n",
    "#Does company size effect pay?\n",
    "#Average amount of money in data science?"
   ]
  },
  {
   "cell_type": "code",
   "execution_count": null,
   "id": "fa0cb215-b41d-41b1-9b65-8fce07e7e9f0",
   "metadata": {},
   "outputs": [],
   "source": [
    "#What is the most popular job title in each year?\n",
    "#Data analyst(remote) most popular in 2020\n",
    "#Statistician most popular in 2021\n",
    "#Data Analyst in office most popular in 2022"
   ]
  },
  {
   "cell_type": "code",
   "execution_count": null,
   "id": "e6191174-98d9-4ffa-b008-a950f995f51f",
   "metadata": {},
   "outputs": [],
   "source": [
    "#What Job title is paid the best?\n",
    "#Machine Learning Engineers(Remote) are on a median salary of 123,566.0"
   ]
  },
  {
   "cell_type": "code",
   "execution_count": null,
   "id": "56d2ff6a-93df-4107-b39f-3b9d58d1dbd9",
   "metadata": {},
   "outputs": [],
   "source": [
    "#Whats the most popular work setting in the UK\n",
    "#The most popular work setting in the UK is working remotely "
   ]
  },
  {
   "cell_type": "code",
   "execution_count": 53,
   "id": "fb2df13e-0de5-4a90-b142-70ec6c0e20e2",
   "metadata": {},
   "outputs": [
    {
     "data": {
      "text/plain": [
       "0    Hybrid\n",
       "Name: work_setting, dtype: object"
      ]
     },
     "execution_count": 53,
     "metadata": {},
     "output_type": "execute_result"
    }
   ],
   "source": [
    "#Whats the most popular work setting in the UK?\n",
    "UK = data[data['employee_residence'] == 'UK']\n",
    "UK['work_setting'].mode()"
   ]
  },
  {
   "cell_type": "code",
   "execution_count": 29,
   "id": "8afa5b12-8167-4099-abc5-028b3dbfb593",
   "metadata": {},
   "outputs": [
    {
     "name": "stdout",
     "output_type": "stream",
     "text": [
      "[2022 2020 2021]\n",
      "0    Data Analyst  (Remote)\n",
      "Name: job_title, dtype: object\n",
      "0    Hybrid\n",
      "Name: work_setting, dtype: object\n"
     ]
    }
   ],
   "source": [
    "#What is the most popular job title in each year?\n",
    "print(data['work_year'].unique())\n",
    "work_year = data[data['work_year'] == 2020]\n",
    "print(work_year['job_title'].mode())\n",
    "print(work_year['work_setting'].mode())\n",
    "#Data analyst(remote) most popular in 2020\n"
   ]
  },
  {
   "cell_type": "code",
   "execution_count": 25,
   "id": "2bca0bec-77e9-4713-9330-1883d7f22453",
   "metadata": {},
   "outputs": [
    {
     "name": "stdout",
     "output_type": "stream",
     "text": [
      "0    Statistician  \n",
      "Name: job_title, dtype: object\n",
      "0    Remote\n",
      "Name: work_setting, dtype: object\n"
     ]
    }
   ],
   "source": [
    "work_year = data[data['work_year'] == 2021]\n",
    "print(work_year['job_title'].mode())\n",
    "print(work_year['work_setting'].mode())\n",
    "# Statistician most popular in 2021"
   ]
  },
  {
   "cell_type": "code",
   "execution_count": 21,
   "id": "bda54a30-08b0-47fc-a9a6-065113dc6ac6",
   "metadata": {},
   "outputs": [
    {
     "name": "stdout",
     "output_type": "stream",
     "text": [
      "0    Data Analyst  in office\n",
      "Name: job_title, dtype: object\n",
      "0    Hybrid\n",
      "Name: work_setting, dtype: object\n"
     ]
    }
   ],
   "source": [
    "work_year = data[data['work_year'] == 2022]\n",
    "print(work_year['job_title'].mode())\n",
    "print(work_year['work_setting'].mode())\n",
    "#Data Analyst in office most popular in 2022"
   ]
  },
  {
   "cell_type": "code",
   "execution_count": 46,
   "id": "e8937c80-6fe0-4c67-bcba-ce7c531e590f",
   "metadata": {},
   "outputs": [
    {
     "data": {
      "text/html": [
       "<div>\n",
       "<style scoped>\n",
       "    .dataframe tbody tr th:only-of-type {\n",
       "        vertical-align: middle;\n",
       "    }\n",
       "\n",
       "    .dataframe tbody tr th {\n",
       "        vertical-align: top;\n",
       "    }\n",
       "\n",
       "    .dataframe thead th {\n",
       "        text-align: right;\n",
       "    }\n",
       "</style>\n",
       "<table border=\"1\" class=\"dataframe\">\n",
       "  <thead>\n",
       "    <tr style=\"text-align: right;\">\n",
       "      <th></th>\n",
       "      <th>job_title</th>\n",
       "      <th>salary_in_usd</th>\n",
       "    </tr>\n",
       "  </thead>\n",
       "  <tbody>\n",
       "    <tr>\n",
       "      <th>10</th>\n",
       "      <td>Machine Learning Engineer  (Remote)</td>\n",
       "      <td>123566.0</td>\n",
       "    </tr>\n",
       "    <tr>\n",
       "      <th>12</th>\n",
       "      <td>Statistician</td>\n",
       "      <td>123246.5</td>\n",
       "    </tr>\n",
       "    <tr>\n",
       "      <th>0</th>\n",
       "      <td>Data Analyst</td>\n",
       "      <td>116700.0</td>\n",
       "    </tr>\n",
       "    <tr>\n",
       "      <th>14</th>\n",
       "      <td>Statistician  in office</td>\n",
       "      <td>115898.0</td>\n",
       "    </tr>\n",
       "    <tr>\n",
       "      <th>2</th>\n",
       "      <td>Data Analyst  in office</td>\n",
       "      <td>115839.0</td>\n",
       "    </tr>\n",
       "    <tr>\n",
       "      <th>4</th>\n",
       "      <td>Data Engineer  (Remote)</td>\n",
       "      <td>115589.5</td>\n",
       "    </tr>\n",
       "    <tr>\n",
       "      <th>8</th>\n",
       "      <td>Data Scientist  in office</td>\n",
       "      <td>115554.5</td>\n",
       "    </tr>\n",
       "    <tr>\n",
       "      <th>5</th>\n",
       "      <td>Data Engineer  in office</td>\n",
       "      <td>114493.5</td>\n",
       "    </tr>\n",
       "    <tr>\n",
       "      <th>13</th>\n",
       "      <td>Statistician  (Remote)</td>\n",
       "      <td>114164.0</td>\n",
       "    </tr>\n",
       "    <tr>\n",
       "      <th>6</th>\n",
       "      <td>Data Scientist</td>\n",
       "      <td>111119.0</td>\n",
       "    </tr>\n",
       "    <tr>\n",
       "      <th>3</th>\n",
       "      <td>Data Engineer</td>\n",
       "      <td>110808.0</td>\n",
       "    </tr>\n",
       "    <tr>\n",
       "      <th>1</th>\n",
       "      <td>Data Analyst  (Remote)</td>\n",
       "      <td>110305.0</td>\n",
       "    </tr>\n",
       "    <tr>\n",
       "      <th>11</th>\n",
       "      <td>Machine Learning Engineer  in office</td>\n",
       "      <td>108649.0</td>\n",
       "    </tr>\n",
       "    <tr>\n",
       "      <th>7</th>\n",
       "      <td>Data Scientist  (Remote)</td>\n",
       "      <td>107092.0</td>\n",
       "    </tr>\n",
       "    <tr>\n",
       "      <th>9</th>\n",
       "      <td>Machine Learning Engineer</td>\n",
       "      <td>106454.5</td>\n",
       "    </tr>\n",
       "  </tbody>\n",
       "</table>\n",
       "</div>"
      ],
      "text/plain": [
       "                               job_title  salary_in_usd\n",
       "10   Machine Learning Engineer  (Remote)       123566.0\n",
       "12                        Statistician         123246.5\n",
       "0                         Data Analyst         116700.0\n",
       "14               Statistician  in office       115898.0\n",
       "2                Data Analyst  in office       115839.0\n",
       "4                Data Engineer  (Remote)       115589.5\n",
       "8              Data Scientist  in office       115554.5\n",
       "5               Data Engineer  in office       114493.5\n",
       "13                Statistician  (Remote)       114164.0\n",
       "6                       Data Scientist         111119.0\n",
       "3                        Data Engineer         110808.0\n",
       "1                 Data Analyst  (Remote)       110305.0\n",
       "11  Machine Learning Engineer  in office       108649.0\n",
       "7               Data Scientist  (Remote)       107092.0\n",
       "9            Machine Learning Engineer         106454.5"
      ]
     },
     "execution_count": 46,
     "metadata": {},
     "output_type": "execute_result"
    }
   ],
   "source": [
    "#What Job title is paid the best?\n",
    "mean_salaries = (data.groupby('job_title')['salary_in_usd']\n",
    "                 .median()\n",
    "                 .round(2)\n",
    "                 .reset_index()\n",
    "                 .sort_values(by='salary_in_usd', ascending=False))\n",
    "\n",
    "mean_salaries\n"
   ]
  },
  {
   "cell_type": "code",
   "execution_count": null,
   "id": "69e4d5f5-c1a7-4051-8ec6-8bbd287b7b6b",
   "metadata": {},
   "outputs": [],
   "source": []
  }
 ],
 "metadata": {
  "kernelspec": {
   "display_name": "Python 3 (ipykernel)",
   "language": "python",
   "name": "python3"
  },
  "language_info": {
   "codemirror_mode": {
    "name": "ipython",
    "version": 3
   },
   "file_extension": ".py",
   "mimetype": "text/x-python",
   "name": "python",
   "nbconvert_exporter": "python",
   "pygments_lexer": "ipython3",
   "version": "3.10.15"
  }
 },
 "nbformat": 4,
 "nbformat_minor": 5
}
